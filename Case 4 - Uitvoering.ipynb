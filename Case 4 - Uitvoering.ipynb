{
 "cells": [
  {
   "cell_type": "markdown",
   "id": "c0553751",
   "metadata": {},
   "source": [
    "# Case 4 - Machine learning uitvoering"
   ]
  },
  {
   "cell_type": "markdown",
   "id": "54af712a",
   "metadata": {},
   "source": [
    "### Inladen Packages"
   ]
  },
  {
   "cell_type": "code",
   "execution_count": 1,
   "id": "707ea1d1",
   "metadata": {},
   "outputs": [],
   "source": [
    "import pandas as pd\n",
    "import plotly.express as px\n",
    "import numpy as np"
   ]
  },
  {
   "cell_type": "code",
   "execution_count": 2,
   "id": "7df98a35",
   "metadata": {},
   "outputs": [],
   "source": [
    "from sklearn.tree import DecisionTreeClassifier\n",
    "from sklearn.model_selection import train_test_split\n",
    "from sklearn.metrics import accuracy_score\n",
    "from sklearn import tree\n",
    "from sklearn.neighbors import KNeighborsClassifier\n",
    "from sklearn.ensemble import RandomForestClassifier\n",
    "#from sklearn.naive_bayes import GaussianNB\n",
    "from sklearn.ensemble import StackingClassifier"
   ]
  },
  {
   "cell_type": "markdown",
   "id": "6793691d",
   "metadata": {},
   "source": [
    "### Inladen data"
   ]
  },
  {
   "cell_type": "code",
   "execution_count": 3,
   "id": "819050ac",
   "metadata": {},
   "outputs": [],
   "source": [
    "Train = pd.read_csv('Train_Acitivity_Tracker_Labeled.csv')\n",
    "Test = pd.read_csv('Test.csv')"
   ]
  },
  {
   "cell_type": "code",
   "execution_count": 4,
   "id": "3c3e243e",
   "metadata": {},
   "outputs": [],
   "source": [
    "Columns = ['0','1','2','3','4','5']\n",
    "LabelsColumn = ['0','1','2','3','4','5','Group']"
   ]
  },
  {
   "cell_type": "markdown",
   "id": "ec448d78",
   "metadata": {},
   "source": [
    "## Uitvoeren Machine learning models"
   ]
  },
  {
   "cell_type": "code",
   "execution_count": 5,
   "id": "693ebba4",
   "metadata": {},
   "outputs": [],
   "source": [
    "TrainOrTest = 0"
   ]
  },
  {
   "cell_type": "code",
   "execution_count": 6,
   "id": "249a13e5",
   "metadata": {},
   "outputs": [],
   "source": [
    "def Get_Model(Model):\n",
    "    if Model == 'DT':\n",
    "        return DecisionTreeClassifier()\n",
    "    elif Model == 'KN':\n",
    "        return RandomForestClassifier(n_estimators=11,random_state=True)\n",
    "    elif Model == 'RF':\n",
    "            return KNeighborsClassifier(n_neighbors=7)"
   ]
  },
  {
   "cell_type": "code",
   "execution_count": 7,
   "id": "9901ad6b",
   "metadata": {},
   "outputs": [],
   "source": [
    "def ML(X_test,X_train,y_test,y_train,modelType):\n",
    "    modelML = Get_Model(modelType)\n",
    "    modelML.fit(X_train,y_train.values.ravel())\n",
    "    pred_ML = modelML.predict(X_test)\n",
    "    if TrainOrTest == 0:\n",
    "        scoreML = accuracy_score(y_test,pred_ML)\n",
    "        scoreML = scoreML.round(4)\n",
    "        print(\"Score is:\" ,scoreML*100,'%')\n",
    "    return pred_ML, X_test"
   ]
  },
  {
   "cell_type": "markdown",
   "id": "07332490",
   "metadata": {},
   "source": [
    "### Extra Features"
   ]
  },
  {
   "cell_type": "code",
   "execution_count": 8,
   "id": "7b154f69",
   "metadata": {},
   "outputs": [],
   "source": [
    "def rolling(label):\n",
    "    OR = Train[Train['labels']== label]\n",
    "    LB = OR[['0','1','2']].rolling(window= 50).mean()\n",
    "    #LB = LB[['0','1','2']].shift(-2, axis =0)\n",
    "    LB = LB.dropna(axis=0)\n",
    "    LB = LB.assign(labels = label)\n",
    "    return LB"
   ]
  },
  {
   "cell_type": "code",
   "execution_count": 9,
   "id": "0217281c",
   "metadata": {},
   "outputs": [],
   "source": [
    "lb1= rolling(1)\n",
    "lb2= rolling(2)\n",
    "lb3= rolling(3)\n",
    "lb4= rolling(4)\n",
    "lb5= rolling(5)\n",
    "lb6= rolling(6)\n",
    "lb7= rolling(7)\n",
    "lb8= rolling(8)\n",
    "lb9= rolling(9)\n",
    "lb10= rolling(10)\n",
    "lb11= rolling(11)\n",
    "lb12= rolling(12)\n",
    "Train =  pd.concat([lb1,lb2,lb3,lb4,lb5,lb6,lb7,lb8,lb9,lb10,lb11,lb12], ignore_index=False)"
   ]
  },
  {
   "cell_type": "code",
   "execution_count": 10,
   "id": "fe09d349",
   "metadata": {},
   "outputs": [],
   "source": [
    "Train['3'] = (Train['0'] + Train['1'] + Train['2']).mean()\n",
    "Train['4'] = np.std(Train['0'] + Train['1'] + Train['2'])\n",
    "Train['5'] = (Train['0'] + Train['1'] + Train['2']) ** 2\n",
    "\n",
    "Test['3'] = (Test['0'] + Test['1'] + Test['2']).mean()\n",
    "Test['4'] = np.std(Test['0'] + Test['1'] + Test['2'])\n",
    "Test['5'] = (Test['0'] + Test['1'] + Test['2']) ** 2"
   ]
  },
  {
   "cell_type": "markdown",
   "id": "3854ff5f",
   "metadata": {},
   "source": [
    "### Guess Group"
   ]
  },
  {
   "cell_type": "markdown",
   "id": "0801a253",
   "metadata": {},
   "source": [
    "Grouping zorgt voor hogere accuracy met de train dataset maar bij kaggle een lagere score"
   ]
  },
  {
   "cell_type": "markdown",
   "id": "dde43a83",
   "metadata": {},
   "source": [
    "#### Create Groups"
   ]
  },
  {
   "cell_type": "markdown",
   "id": "f7db5d46",
   "metadata": {},
   "source": [
    "<table>\n",
    "    <tr>\n",
    "        <th>101 Bewegen:</th>\n",
    "        <th>102 Stil:</th>\n",
    "        <th>103 Transitie:</th>\n",
    "    </tr>\n",
    "    <tr>\n",
    "        <td>1 Lopen</td>\n",
    "        <td>4 Zitten</td>\n",
    "        <td>7 Staan_Naar_Zitten</td>\n",
    "    </tr>\n",
    "    <tr>\n",
    "        <td>2 Lopen_Trap_op</td>\n",
    "        <td>5 Staan</td>\n",
    "        <td>8 Zitten_Naar_Staan</td>\n",
    "    </tr>\n",
    "    <tr>\n",
    "        <td>3 Lopen_Trap_af</td>\n",
    "        <td>6 Liggen</td>\n",
    "        <td>9 Zitten_Naar_Liggen</td>\n",
    "    </tr>\n",
    "    <tr>\n",
    "        <td></td>\n",
    "        <td></td>\n",
    "        <td>10 Liggen_Naar_Zitten</td>\n",
    "    </tr>\n",
    "    <tr>\n",
    "        <td></td>\n",
    "        <td></td>\n",
    "        <td>11 Staan_Naar_Liggen</td>\n",
    "    </tr>\n",
    "    <tr>\n",
    "        <td></td>\n",
    "        <td></td>\n",
    "        <td>12 Liggen_Naar_Staan</td>\n",
    "    </tr>\n",
    "</table>"
   ]
  },
  {
   "cell_type": "code",
   "execution_count": 11,
   "id": "740f0ef6",
   "metadata": {
    "scrolled": true
   },
   "outputs": [],
   "source": [
    "Check = Train\n",
    "Con = [\n",
    "    (Train['labels'] < 4),\n",
    "    (Train['labels'] < 7) & (Train['labels'] > 3)\n",
    "]\n",
    "Choices = [101,102]\n",
    "Check['Group'] = np.select(Con,Choices,default=103)"
   ]
  },
  {
   "cell_type": "markdown",
   "id": "c46e5dd4",
   "metadata": {},
   "source": [
    "#### Machine Learning Groups"
   ]
  },
  {
   "cell_type": "markdown",
   "id": "1a0f584e",
   "metadata": {},
   "source": [
    "Give Test dataframe groups using Train dataframe"
   ]
  },
  {
   "cell_type": "code",
   "execution_count": 12,
   "id": "c9f22930",
   "metadata": {},
   "outputs": [],
   "source": [
    "if TrainOrTest == 1:\n",
    "    X_train = Check[Columns]\n",
    "    y_train = Check[['Group']]\n",
    "    X_test = Test[Columns]\n",
    "    y_test = ''\n",
    "else:\n",
    "    X = Train[Columns]\n",
    "    y = Train[['Group']]\n",
    "    X_train, X_test, y_train, y_test = train_test_split(X,y,test_size=0.3)"
   ]
  },
  {
   "cell_type": "markdown",
   "id": "96670025",
   "metadata": {},
   "source": [
    "#### Predict"
   ]
  },
  {
   "cell_type": "code",
   "execution_count": 13,
   "id": "384165c1",
   "metadata": {},
   "outputs": [],
   "source": [
    "if TrainOrTest == 0:\n",
    "    Prediction, X_test = ML(X_test,X_train,y_test,y_train,'RF')"
   ]
  },
  {
   "cell_type": "markdown",
   "id": "070435a0",
   "metadata": {},
   "source": [
    "### Guess Label"
   ]
  },
  {
   "cell_type": "markdown",
   "id": "fa932428",
   "metadata": {},
   "source": [
    "#### Create X & y"
   ]
  },
  {
   "cell_type": "code",
   "execution_count": 14,
   "id": "79e4c4aa",
   "metadata": {
    "scrolled": false
   },
   "outputs": [],
   "source": [
    "if TrainOrTest == 1:\n",
    "    X_test = pd.DataFrame(X_test)\n",
    "    X_test['Group'] = Prediction\n",
    "    X_train = Train[LabelsColumn]\n",
    "    y_train = Train[['labels']]\n",
    "    y_test = ''\n",
    "else:\n",
    "    X = Train[LabelsColumn]\n",
    "    y = Train[['labels']]\n",
    "    X_train, X_test, y_train, y_test = train_test_split(X,y,test_size=0.3)"
   ]
  },
  {
   "cell_type": "markdown",
   "id": "08483bd3",
   "metadata": {},
   "source": [
    "#### Predict"
   ]
  },
  {
   "cell_type": "code",
   "execution_count": 15,
   "id": "4b08a566",
   "metadata": {},
   "outputs": [],
   "source": [
    "Prediction, X_test = ML(X_test,X_train,y_test,y_train,'DT')"
   ]
  },
  {
   "cell_type": "markdown",
   "id": "380e4fcb",
   "metadata": {},
   "source": [
    "Export"
   ]
  },
  {
   "cell_type": "code",
   "execution_count": 16,
   "id": "9aff8864",
   "metadata": {},
   "outputs": [],
   "source": [
    "if TrainOrTest == 1:\n",
    "    Export = pd.DataFrame(Test['Index'])\n",
    "    Export['labels'] = Prediction\n",
    "    Export.to_csv('Kaggle.CSV',index=False)"
   ]
  }
 ],
 "metadata": {
  "kernelspec": {
   "display_name": "Python 3 (ipykernel)",
   "language": "python",
   "name": "python3"
  },
  "language_info": {
   "codemirror_mode": {
    "name": "ipython",
    "version": 3
   },
   "file_extension": ".py",
   "mimetype": "text/x-python",
   "name": "python",
   "nbconvert_exporter": "python",
   "pygments_lexer": "ipython3",
   "version": "3.9.7"
  }
 },
 "nbformat": 4,
 "nbformat_minor": 5
}
