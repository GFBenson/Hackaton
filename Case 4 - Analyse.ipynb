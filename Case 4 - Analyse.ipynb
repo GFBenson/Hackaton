{
 "cells": [
  {
   "cell_type": "markdown",
   "id": "d73bc6d0",
   "metadata": {},
   "source": [
    "## Case 4 - Data en machine learning analysis"
   ]
  },
  {
   "cell_type": "markdown",
   "id": "8b2fe0e1",
   "metadata": {},
   "source": [
    "### Importing libraries & loading dataset"
   ]
  },
  {
   "cell_type": "code",
   "execution_count": 1,
   "id": "substantial-headset",
   "metadata": {},
   "outputs": [],
   "source": [
    "# Import libraries\n",
    "import pandas as pd\n",
    "import numpy as np\n",
    "import warnings\n",
    "import scipy\n",
    "## Data Visualization\n",
    "import seaborn as sns\n",
    "import matplotlib.pyplot as plt\n",
    "\n",
    "# Configure libraries\n",
    "warnings.filterwarnings('ignore')\n",
    "plt.rcParams['figure.figsize'] = (10, 10)\n",
    "plt.style.use('seaborn')"
   ]
  },
  {
   "cell_type": "code",
   "execution_count": 2,
   "id": "severe-switch",
   "metadata": {},
   "outputs": [],
   "source": [
    "# Load dataset\n",
    "test = pd.read_csv('Test.csv')\n",
    "train = pd.read_csv('Train_Acitivity_Tracker_Labeled.csv')\n"
   ]
  },
  {
   "cell_type": "markdown",
   "id": "96744a0f",
   "metadata": {},
   "source": [
    "## Exploring dataset"
   ]
  },
  {
   "cell_type": "code",
   "execution_count": 3,
   "id": "805a2156",
   "metadata": {},
   "outputs": [
    {
     "name": "stdout",
     "output_type": "stream",
     "text": [
      "Shape of test: (70398, 6)\n",
      "Shape of train: (745216, 8)\n"
     ]
    }
   ],
   "source": [
    "print('Shape of test:', test.shape)\n",
    "print('Shape of train:', train.shape)"
   ]
  },
  {
   "cell_type": "code",
   "execution_count": 4,
   "id": "collective-diving",
   "metadata": {},
   "outputs": [
    {
     "name": "stdout",
     "output_type": "stream",
     "text": [
      "Label Distribution\n",
      "5     126443\n",
      "6     124417\n",
      "4     115867\n",
      "1     111970\n",
      "2     106389\n",
      "3      98087\n",
      "11     13592\n",
      "9      11225\n",
      "10     10337\n",
      "12     10070\n",
      "7       9499\n",
      "8       7320\n",
      "Name: labels, dtype: int64\n",
      "--------------------------------\n",
      "null value counts\n"
     ]
    },
    {
     "data": {
      "text/plain": [
       "Unnamed: 0    0\n",
       "0             0\n",
       "1             0\n",
       "2             0\n",
       "user          0\n",
       "experiment    0\n",
       "index         0\n",
       "labels        0\n",
       "dtype: int64"
      ]
     },
     "execution_count": 4,
     "metadata": {},
     "output_type": "execute_result"
    }
   ],
   "source": [
    "# Label distribution\n",
    "print('Label Distribution')\n",
    "print(train['labels'].value_counts())\n",
    "\n",
    "print('--------------------------------')\n",
    "# Null values\n",
    "print('null value counts')\n",
    "train.isnull().sum()"
   ]
  },
  {
   "cell_type": "code",
   "execution_count": 5,
   "id": "parallel-nebraska",
   "metadata": {},
   "outputs": [
    {
     "data": {
      "image/png": "[encoded data removed]",
      "text/plain": [
       "<Figure size 576x396 with 1 Axes>"
      ]
     },
     "metadata": {},
     "output_type": "display_data"
    }
   ],
   "source": [
    "train['labels'].value_counts().plot(kind='bar');\n",
    "plt.xlabel(\"Labels\")\n",
    "plt.ylabel('Count of labels')\n",
    "plt.title('Count of labels per label')\n",
    "plt.show()"
   ]
  },
  {
   "cell_type": "code",
   "execution_count": 6,
   "id": "derived-knitting",
   "metadata": {},
   "outputs": [
    {
     "data": {
      "text/html": [
       "<div>\n",
       "<style scoped>\n",
       "    .dataframe tbody tr th:only-of-type {\n",
       "        vertical-align: middle;\n",
       "    }\n",
       "\n",
       "    .dataframe tbody tr th {\n",
       "        vertical-align: top;\n",
       "    }\n",
       "\n",
       "    .dataframe thead th {\n",
       "        text-align: right;\n",
       "    }\n",
       "</style>\n",
       "<table border=\"1\" class=\"dataframe\">\n",
       "  <thead>\n",
       "    <tr style=\"text-align: right;\">\n",
       "      <th></th>\n",
       "      <th>0</th>\n",
       "      <th>1</th>\n",
       "      <th>2</th>\n",
       "    </tr>\n",
       "  </thead>\n",
       "  <tbody>\n",
       "    <tr>\n",
       "      <th>count</th>\n",
       "      <td>745216.000000</td>\n",
       "      <td>745216.000000</td>\n",
       "      <td>745216.000000</td>\n",
       "    </tr>\n",
       "    <tr>\n",
       "      <th>mean</th>\n",
       "      <td>0.806653</td>\n",
       "      <td>0.029731</td>\n",
       "      <td>0.082371</td>\n",
       "    </tr>\n",
       "    <tr>\n",
       "      <th>std</th>\n",
       "      <td>0.407770</td>\n",
       "      <td>0.407787</td>\n",
       "      <td>0.346554</td>\n",
       "    </tr>\n",
       "    <tr>\n",
       "      <th>min</th>\n",
       "      <td>-0.647222</td>\n",
       "      <td>-1.698611</td>\n",
       "      <td>-1.837500</td>\n",
       "    </tr>\n",
       "    <tr>\n",
       "      <th>25%</th>\n",
       "      <td>0.673611</td>\n",
       "      <td>-0.227778</td>\n",
       "      <td>-0.127778</td>\n",
       "    </tr>\n",
       "    <tr>\n",
       "      <th>50%</th>\n",
       "      <td>0.948611</td>\n",
       "      <td>-0.075000</td>\n",
       "      <td>0.041667</td>\n",
       "    </tr>\n",
       "    <tr>\n",
       "      <th>75%</th>\n",
       "      <td>1.019445</td>\n",
       "      <td>0.219444</td>\n",
       "      <td>0.230556</td>\n",
       "    </tr>\n",
       "    <tr>\n",
       "      <th>max</th>\n",
       "      <td>2.004167</td>\n",
       "      <td>1.676389</td>\n",
       "      <td>1.502778</td>\n",
       "    </tr>\n",
       "  </tbody>\n",
       "</table>\n",
       "</div>"
      ],
      "text/plain": [
       "                   0              1              2\n",
       "count  745216.000000  745216.000000  745216.000000\n",
       "mean        0.806653       0.029731       0.082371\n",
       "std         0.407770       0.407787       0.346554\n",
       "min        -0.647222      -1.698611      -1.837500\n",
       "25%         0.673611      -0.227778      -0.127778\n",
       "50%         0.948611      -0.075000       0.041667\n",
       "75%         1.019445       0.219444       0.230556\n",
       "max         2.004167       1.676389       1.502778"
      ]
     },
     "execution_count": 6,
     "metadata": {},
     "output_type": "execute_result"
    }
   ],
   "source": [
    "# Features\n",
    "train[['0','1','2']].describe()\n"
   ]
  },
  {
   "cell_type": "code",
   "execution_count": 7,
   "id": "purple-reliance",
   "metadata": {},
   "outputs": [
    {
     "data": {
      "text/html": [
       "<div>\n",
       "<style scoped>\n",
       "    .dataframe tbody tr th:only-of-type {\n",
       "        vertical-align: middle;\n",
       "    }\n",
       "\n",
       "    .dataframe tbody tr th {\n",
       "        vertical-align: top;\n",
       "    }\n",
       "\n",
       "    .dataframe thead th {\n",
       "        text-align: right;\n",
       "    }\n",
       "</style>\n",
       "<table border=\"1\" class=\"dataframe\">\n",
       "  <thead>\n",
       "    <tr style=\"text-align: right;\">\n",
       "      <th></th>\n",
       "      <th>0</th>\n",
       "      <th>1</th>\n",
       "      <th>2</th>\n",
       "      <th>mean</th>\n",
       "      <th>std</th>\n",
       "      <th>sqrd</th>\n",
       "      <th>cumsum</th>\n",
       "    </tr>\n",
       "  </thead>\n",
       "  <tbody>\n",
       "    <tr>\n",
       "      <th>count</th>\n",
       "      <td>745216.000000</td>\n",
       "      <td>745216.000000</td>\n",
       "      <td>745216.000000</td>\n",
       "      <td>7.452160e+05</td>\n",
       "      <td>7.452160e+05</td>\n",
       "      <td>745216.000000</td>\n",
       "      <td>745216.000000</td>\n",
       "    </tr>\n",
       "    <tr>\n",
       "      <th>mean</th>\n",
       "      <td>0.806653</td>\n",
       "      <td>0.029731</td>\n",
       "      <td>0.082371</td>\n",
       "      <td>9.187554e-01</td>\n",
       "      <td>4.631253e-01</td>\n",
       "      <td>1.058597</td>\n",
       "      <td>338940.495005</td>\n",
       "    </tr>\n",
       "    <tr>\n",
       "      <th>std</th>\n",
       "      <td>0.407770</td>\n",
       "      <td>0.407787</td>\n",
       "      <td>0.346554</td>\n",
       "      <td>1.779422e-11</td>\n",
       "      <td>5.755122e-12</td>\n",
       "      <td>0.816455</td>\n",
       "      <td>194997.182776</td>\n",
       "    </tr>\n",
       "    <tr>\n",
       "      <th>min</th>\n",
       "      <td>-0.647222</td>\n",
       "      <td>-1.698611</td>\n",
       "      <td>-1.837500</td>\n",
       "      <td>9.187554e-01</td>\n",
       "      <td>4.631253e-01</td>\n",
       "      <td>0.000000</td>\n",
       "      <td>1.001389</td>\n",
       "    </tr>\n",
       "    <tr>\n",
       "      <th>25%</th>\n",
       "      <td>0.673611</td>\n",
       "      <td>-0.227778</td>\n",
       "      <td>-0.127778</td>\n",
       "      <td>9.187554e-01</td>\n",
       "      <td>4.631253e-01</td>\n",
       "      <td>0.375156</td>\n",
       "      <td>175280.819687</td>\n",
       "    </tr>\n",
       "    <tr>\n",
       "      <th>50%</th>\n",
       "      <td>0.948611</td>\n",
       "      <td>-0.075000</td>\n",
       "      <td>0.041667</td>\n",
       "      <td>9.187554e-01</td>\n",
       "      <td>4.631253e-01</td>\n",
       "      <td>0.858196</td>\n",
       "      <td>335744.231117</td>\n",
       "    </tr>\n",
       "    <tr>\n",
       "      <th>75%</th>\n",
       "      <td>1.019445</td>\n",
       "      <td>0.219444</td>\n",
       "      <td>0.230556</td>\n",
       "      <td>9.187554e-01</td>\n",
       "      <td>4.631253e-01</td>\n",
       "      <td>1.664817</td>\n",
       "      <td>499962.219379</td>\n",
       "    </tr>\n",
       "    <tr>\n",
       "      <th>max</th>\n",
       "      <td>2.004167</td>\n",
       "      <td>1.676389</td>\n",
       "      <td>1.502778</td>\n",
       "      <td>9.187554e-01</td>\n",
       "      <td>4.631253e-01</td>\n",
       "      <td>8.385851</td>\n",
       "      <td>684671.215726</td>\n",
       "    </tr>\n",
       "  </tbody>\n",
       "</table>\n",
       "</div>"
      ],
      "text/plain": [
       "                   0              1              2          mean  \\\n",
       "count  745216.000000  745216.000000  745216.000000  7.452160e+05   \n",
       "mean        0.806653       0.029731       0.082371  9.187554e-01   \n",
       "std         0.407770       0.407787       0.346554  1.779422e-11   \n",
       "min        -0.647222      -1.698611      -1.837500  9.187554e-01   \n",
       "25%         0.673611      -0.227778      -0.127778  9.187554e-01   \n",
       "50%         0.948611      -0.075000       0.041667  9.187554e-01   \n",
       "75%         1.019445       0.219444       0.230556  9.187554e-01   \n",
       "max         2.004167       1.676389       1.502778  9.187554e-01   \n",
       "\n",
       "                std           sqrd         cumsum  \n",
       "count  7.452160e+05  745216.000000  745216.000000  \n",
       "mean   4.631253e-01       1.058597  338940.495005  \n",
       "std    5.755122e-12       0.816455  194997.182776  \n",
       "min    4.631253e-01       0.000000       1.001389  \n",
       "25%    4.631253e-01       0.375156  175280.819687  \n",
       "50%    4.631253e-01       0.858196  335744.231117  \n",
       "75%    4.631253e-01       1.664817  499962.219379  \n",
       "max    4.631253e-01       8.385851  684671.215726  "
      ]
     },
     "execution_count": 7,
     "metadata": {},
     "output_type": "execute_result"
    }
   ],
   "source": [
    "# Creating new features\n",
    "train['mean'] = (train['0'] + train['1'] + train['2']).mean()\n",
    "train['std'] = np.std(train['0'] + train['1'] + train['2'])\n",
    "train['sqrd'] = (train['0'] + train['1'] + train['2']) ** 2\n",
    "train['cumsum'] = (train['0'] + train['1'] + train['2']).cumsum()\n",
    "\n",
    "train[['0','1','2','mean','std','sqrd','cumsum']].describe()\n"
   ]
  },
  {
   "cell_type": "code",
   "execution_count": 8,
   "id": "6aadb659",
   "metadata": {},
   "outputs": [
    {
     "data": {
      "image/png": "[encoded data removed]",
      "text/plain": [
       "<Figure size 576x396 with 1 Axes>"
      ]
     },
     "metadata": {},
     "output_type": "display_data"
    }
   ],
   "source": [
    "fig, ax = plt.subplots()\n",
    "\n",
    "ax.boxplot(train[['0','1','2']])\n",
    "ax.set_xlabel(\"Features\")\n",
    "ax.set_ylabel(\"Values\")\n",
    "ax.set_title('Distribution of features')\n",
    "\n",
    "plt.show()"
   ]
  },
  {
   "cell_type": "markdown",
   "id": "31d7d523",
   "metadata": {},
   "source": [
    "### Dataset splitting"
   ]
  },
  {
   "cell_type": "code",
   "execution_count": 9,
   "id": "religious-dispatch",
   "metadata": {},
   "outputs": [
    {
     "name": "stdout",
     "output_type": "stream",
     "text": [
      "Shape of training features: (596172, 7)\n",
      "Shape of testing features: (149044, 7)\n",
      "Shape of training label: (596172,)\n",
      "Shape of training label: (149044,)\n"
     ]
    }
   ],
   "source": [
    "from sklearn.model_selection import train_test_split\n",
    "\n",
    "\n",
    "# Select Features\n",
    "X= train[['0','1','2','mean','std','sqrd','cumsum']]\n",
    "\n",
    "# Select Target\n",
    "y = train['labels']\n",
    "\n",
    "# Set Training and Testing Data\n",
    "X_train, X_test, y_train, y_test = train_test_split(X , y, \n",
    "                                                    shuffle = True, \n",
    "                                                    test_size=0.2, \n",
    "                                                    random_state=20)\n",
    "\n",
    "# Show the Training and Testing Data\n",
    "print('Shape of training features:', X_train.shape)\n",
    "print('Shape of testing features:', X_test.shape)\n",
    "print('Shape of training label:', y_train.shape)\n",
    "print('Shape of training label:', y_test.shape)"
   ]
  },
  {
   "cell_type": "code",
   "execution_count": 10,
   "id": "similar-exposure",
   "metadata": {},
   "outputs": [],
   "source": [
    "def evaluate_model(model, x_test, y_test):\n",
    "    from sklearn import metrics\n",
    "\n",
    "    # Predict Test Data \n",
    "    y_pred = model.predict(x_test)\n",
    "\n",
    "    # Calculate accuracy, precision, recall, f1-score, and kappa score\n",
    "    acc = metrics.accuracy_score(y_test, y_pred)\n",
    "    prec = metrics.precision_score(y_test, y_pred, average ='micro')\n",
    "    rec = metrics.recall_score(y_test, y_pred, average ='micro')\n",
    "    f1 = metrics.f1_score(y_test, y_pred, average ='micro')\n",
    "    kappa = metrics.cohen_kappa_score(y_test, y_pred)\n",
    "\n",
    "\n",
    "\n",
    "    # Display confussion matrix\n",
    "    cm = metrics.confusion_matrix(y_test, y_pred)\n",
    "\n",
    "    return {'acc': acc, 'prec': prec, 'rec': rec, 'f1': f1, 'kappa': kappa, 'cm': cm}"
   ]
  },
  {
   "cell_type": "code",
   "execution_count": 11,
   "id": "eleven-calculator",
   "metadata": {},
   "outputs": [
    {
     "name": "stdout",
     "output_type": "stream",
     "text": [
      "Accuracy: 0.9153068892407611\n",
      "Precision: 0.9153068892407611\n",
      "Recall: 0.9153068892407611\n",
      "F1 Score: 0.9153068892407611\n",
      "Cohens Kappa Score: 0.9012461667557087\n",
      "Confusion Matrix:\n",
      " [[20639   442   646    68   145     0    55    57    35    46    45    97]\n",
      " [  400 18756  2074    24   110     1    67    42    15    20    45    39]\n",
      " [  668  2136 16368    37    92     0    50    25    33    50    61    57]\n",
      " [   40    23    36 22758    39     0    47    59    35    59    23    32]\n",
      " [  120    92   108    41 24333     0    72    80     7    23    42    14]\n",
      " [    0     0     0     0     0 24762     0     0    80    55    79    55]\n",
      " [   59    89    71    81    89     0  1397    70    25    32    40    25]\n",
      " [   53    39    42    37    97     0    54  1043     7    25    24    12]\n",
      " [   25    16    35    38     6    99    21     7  1617    98   119   106]\n",
      " [   43    29    57    82    23    64    49    27    97  1449   123    91]\n",
      " [   55    69    60    31    78    64    33    33   151   122  1977    91]\n",
      " [  108    55    58    27    31    79    24     9   121    76    79  1322]]\n"
     ]
    }
   ],
   "source": [
    "from sklearn import tree\n",
    "\n",
    "# Building Decision Tree model \n",
    "dtc = tree.DecisionTreeClassifier(random_state=0)\n",
    "dtc.fit(X_train, y_train)\n",
    "\n",
    "# Evaluate Model\n",
    "dtc_eval = evaluate_model(dtc, X_test, y_test)\n",
    "\n",
    "# Print result\n",
    "print('Accuracy:', dtc_eval['acc'])\n",
    "print('Precision:', dtc_eval['prec'])\n",
    "print('Recall:', dtc_eval['rec'])\n",
    "print('F1 Score:', dtc_eval['f1'])\n",
    "print('Cohens Kappa Score:', dtc_eval['kappa'])\n",
    "print('Confusion Matrix:\\n', dtc_eval['cm'])"
   ]
  },
  {
   "cell_type": "code",
   "execution_count": 12,
   "id": "racial-content",
   "metadata": {},
   "outputs": [
    {
     "name": "stdout",
     "output_type": "stream",
     "text": [
      "<class 'pandas.core.frame.DataFrame'>\n",
      "Int64Index: 447130 entries, 687490 to 409720\n",
      "Data columns (total 12 columns):\n",
      " #   Column      Non-Null Count   Dtype  \n",
      "---  ------      --------------   -----  \n",
      " 0   Unnamed: 0  447130 non-null  int64  \n",
      " 1   0           447130 non-null  float64\n",
      " 2   1           447130 non-null  float64\n",
      " 3   2           447130 non-null  float64\n",
      " 4   user        447130 non-null  int64  \n",
      " 5   experiment  447130 non-null  int64  \n",
      " 6   index       447130 non-null  int64  \n",
      " 7   labels      447130 non-null  int64  \n",
      " 8   mean        447130 non-null  float64\n",
      " 9   std         447130 non-null  float64\n",
      " 10  sqrd        447130 non-null  float64\n",
      " 11  cumsum      447130 non-null  float64\n",
      "dtypes: float64(7), int64(5)\n",
      "memory usage: 44.3 MB\n",
      "None\n",
      "Accuracy: 0.8089369981884463\n",
      "Precision: 0.8089369981884463\n",
      "Recall: 0.8089369981884463\n",
      "F1 Score: 0.8089369981884463\n",
      "Cohens Kappa Score: 0.7753820063320476\n",
      "Confusion Matrix:\n",
      " [[10033  1799  1133   128   324     0     5     2     1     7     4     1]\n",
      " [ 1650  9720  1103    61   247     0     2     2     3     6     3     0]\n",
      " [ 2312  2151  6919    97   215     0    10     2    14    10    13     5]\n",
      " [   70    11     8 13757    74     0     5     1     2     5     2     0]\n",
      " [  207   155    22    42 14518     0     4     2     1     0     1     2]\n",
      " [    0     0     0     0     0 15107     0     0     7     2    13     9]\n",
      " [  185   334    37   169   139     0   214     7     9    18    17     5]\n",
      " [  180   267    33   110   127     0     6   123     0     4     6     0]\n",
      " [   59    11    26   112    14   264     2     2   602    42   118    35]\n",
      " [  162    35    37   196    38   228     6     5    61   410   101    31]\n",
      " [  168   171    38    99    47   285    10     1    77    72   594    33]\n",
      " [  192    88    65    84    37   194     4     1    98    53    76   343]]\n"
     ]
    }
   ],
   "source": [
    "train_rf = train.sample(frac=0.60)\n",
    "print(train_rf.info())\n",
    "# Select Features\n",
    "X_rf= train_rf[['0','1','2','mean','std','sqrd','cumsum']]\n",
    "\n",
    "# Select Target\n",
    "y_rf = train_rf['labels']\n",
    "\n",
    "\n",
    "\n",
    "\n",
    "# Set Training and Testing Data\n",
    "X_train_rf, X_test_rf, y_train_rf, y_test_rf = train_test_split(X_rf , y_rf, \n",
    "                                                    shuffle = True, \n",
    "                                                    test_size=0.2, \n",
    "                                                    random_state=20)\n",
    "\n",
    "\n",
    "from sklearn.ensemble import RandomForestClassifier\n",
    "\n",
    "# Building Random Forest model \n",
    "rf = RandomForestClassifier(random_state=0, max_depth=20)\n",
    "rf.fit(X_train_rf, y_train_rf)\n",
    "\n",
    "# Evaluate Model\n",
    "rf_eval = evaluate_model(rf, X_test_rf, y_test_rf)\n",
    "\n",
    "# Print result\n",
    "print('Accuracy:', rf_eval['acc'])\n",
    "print('Precision:', rf_eval['prec'])\n",
    "print('Recall:', rf_eval['rec'])\n",
    "print('F1 Score:', rf_eval['f1'])\n",
    "print('Cohens Kappa Score:', rf_eval['kappa'])\n",
    "print('Confusion Matrix:\\n', rf_eval['cm'])"
   ]
  },
  {
   "cell_type": "code",
   "execution_count": 13,
   "id": "outside-cycling",
   "metadata": {},
   "outputs": [
    {
     "name": "stdout",
     "output_type": "stream",
     "text": [
      "Accuracy: 0.2706650385121172\n",
      "Precision: 0.2706650385121172\n",
      "Recall: 0.2706650385121172\n",
      "F1 Score: 0.2706650385121172\n",
      "Cohens Kappa Score: 0.127337949124526\n",
      "Confusion Matrix:\n",
      " [[ 4631     0     0     0 17197   447     0     0     0     0     0     0]\n",
      " [ 3989     0     0     0 17543    61     0     0     0     0     0     0]\n",
      " [ 3604     0     0     0 15325   648     0     0     0     0     0     0]\n",
      " [ 3599     0     0     0 13907  5645     0     0     0     0     0     0]\n",
      " [ 4241     0     0     0 20688     3     0     0     0     0     0     0]\n",
      " [ 3776     0     0     0  6233 15022     0     0     0     0     0     0]\n",
      " [  387     0     0     0  1363   228     0     0     0     0     0     0]\n",
      " [  279     0     0     0  1040   114     0     0     0     0     0     0]\n",
      " [  416     0     0     0   895   876     0     0     0     0     0     0]\n",
      " [  449     0     0     0   873   812     0     0     0     0     0     0]\n",
      " [  622     0     0     0  1159   983     0     0     0     0     0     0]\n",
      " [  358     0     0     0   985   646     0     0     0     0     0     0]]\n"
     ]
    }
   ],
   "source": [
    "from sklearn.naive_bayes import GaussianNB\n",
    "\n",
    "# Building Naive Bayes model \n",
    "nb = GaussianNB()\n",
    "nb.fit(X_train, y_train)\n",
    "\n",
    "# Evaluate Model\n",
    "nb_eval = evaluate_model(nb, X_test, y_test)\n",
    "\n",
    "# Print result\n",
    "print('Accuracy:', nb_eval['acc'])\n",
    "print('Precision:', nb_eval['prec'])\n",
    "print('Recall:', nb_eval['rec'])\n",
    "print('F1 Score:', nb_eval['f1'])\n",
    "print('Cohens Kappa Score:', nb_eval['kappa'])\n",
    "print('Confusion Matrix:\\n', nb_eval['cm'])"
   ]
  },
  {
   "cell_type": "code",
   "execution_count": 14,
   "id": "devoted-lucas",
   "metadata": {},
   "outputs": [
    {
     "name": "stdout",
     "output_type": "stream",
     "text": [
      "Accuracy: 0.9882920479858297\n",
      "Precision: 0.9882920479858297\n",
      "Recall: 0.9882920479858297\n",
      "F1 Score: 0.9882920479858297\n",
      "Cohens Kappa Score: 0.9863525925816918\n",
      "Confusion Matrix:\n",
      " [[22099     0     8   111     1    13     0     2    23     0     2    16]\n",
      " [    0 21521    72     0     0     0     0     0     0     0     0     0]\n",
      " [    7   162 19408     0     0     0     0     0     0     0     0     0]\n",
      " [  194     0     0 22686   151    51    16    34     6     6     2     5]\n",
      " [    3    33    14   145 24657    16    25    11     7     8    13     0]\n",
      " [   53     0     0   156    78 24693     0     4     9     7    12    19]\n",
      " [    0     0     0     6    32     0  1940     0     0     0     0     0]\n",
      " [    0     0     0    19    14     0     0  1400     0     0     0     0]\n",
      " [    9     0     0     4    30    20     0     0  2124     0     0     0]\n",
      " [    0     0     0     4     7    11     0     0     0  2112     0     0]\n",
      " [    7     0     0     9    14    17     0     0     0     0  2717     0]\n",
      " [   15     0     0    14     2    16     0     0     0     0     0  1942]]\n"
     ]
    }
   ],
   "source": [
    "from sklearn.neighbors import KNeighborsClassifier\n",
    "\n",
    "# Building KNN model \n",
    "knn = KNeighborsClassifier()\n",
    "knn.fit(X_train, y_train)\n",
    "\n",
    "# Evaluate Model\n",
    "knn_eval = evaluate_model(knn, X_test, y_test)\n",
    "\n",
    "# Print result\n",
    "print('Accuracy:', knn_eval['acc'])\n",
    "print('Precision:', knn_eval['prec'])\n",
    "print('Recall:', knn_eval['rec'])\n",
    "print('F1 Score:', knn_eval['f1'])\n",
    "print('Cohens Kappa Score:', knn_eval['kappa'])\n",
    "print('Confusion Matrix:\\n', knn_eval['cm'])"
   ]
  },
  {
   "cell_type": "code",
   "execution_count": 15,
   "id": "processed-spending",
   "metadata": {},
   "outputs": [
    {
     "data": {
      "image/png": "[encoded data removed]",
      "text/plain": [
       "<Figure size 1008x504 with 1 Axes>"
      ]
     },
     "metadata": {},
     "output_type": "display_data"
    }
   ],
   "source": [
    "fig, ax = plt.subplots()\n",
    "fig.set_figheight(7)\n",
    "fig.set_figwidth(14)\n",
    "fig.set_facecolor('white')\n",
    "\n",
    "barWidth = 0.2\n",
    "dtc_score = [dtc_eval['acc'], dtc_eval['prec'], dtc_eval['rec'], dtc_eval['f1'], dtc_eval['kappa']]\n",
    "nb_score = [nb_eval['acc'], nb_eval['prec'], nb_eval['rec'], nb_eval['f1'], nb_eval['kappa']]\n",
    "knn_score = [knn_eval['acc'], knn_eval['prec'], knn_eval['rec'], knn_eval['f1'], knn_eval['kappa']]\n",
    "rf_score = [rf_eval['acc'], rf_eval['prec'], rf_eval['rec'], rf_eval['f1'], rf_eval['kappa']]\n",
    "\n",
    "\n",
    "## Set position of bar on X axis\n",
    "r1 = np.arange(len(dtc_score))\n",
    "r2 = [x + barWidth for x in r1]\n",
    "r3 = [x + barWidth for x in r2]\n",
    "r4 = [x + barWidth for x in r3]\n",
    "\n",
    "## Make the plot\n",
    "ax.bar(r1, dtc_score, width=barWidth, edgecolor='white', label='Decision Tree')\n",
    "ax.bar(r2, nb_score, width=barWidth, edgecolor='white', label='Naive Bayes')\n",
    "ax.bar(r3, knn_score, width=barWidth, edgecolor='white', label='K-Nearest Neighbors')\n",
    "ax.bar(r4, rf_score, width=barWidth, edgecolor='white', label='Random FOrest')\n",
    "\n",
    "\n",
    "## Configure x and y axis\n",
    "ax.set_xlabel('Metrics', fontweight='bold')\n",
    "labels = ['Accuracy', 'Precision', 'Recall', 'F1', 'Kappa']\n",
    "ax.set_xticks([r + (barWidth * 1.5) for r in range(len(dtc_score))], )\n",
    "ax.set_xticklabels(labels)\n",
    "ax.set_ylabel('Score', fontweight='bold')\n",
    "ax.set_ylim(0, 1)\n",
    "\n",
    "## Create legend & title\n",
    "ax.set_title('Model Comparison', fontsize=17, fontweight='bold')\n",
    "ax.legend()\n",
    "\n",
    "plt.show()"
   ]
  },
  {
   "cell_type": "code",
   "execution_count": 16,
   "id": "reverse-madonna",
   "metadata": {},
   "outputs": [
    {
     "name": "stdout",
     "output_type": "stream",
     "text": [
      "Accuracy: 0.8089369981884463\n",
      "Precision: 0.8089369981884463\n",
      "Recall: 0.8089369981884463\n",
      "F1 Score: 0.8089369981884463\n",
      "Cohens Kappa Score: 0.7753820063320476\n",
      "Confusion Matrix:\n",
      " [[10033  1799  1133   128   324     0     5     2     1     7     4     1]\n",
      " [ 1650  9720  1103    61   247     0     2     2     3     6     3     0]\n",
      " [ 2312  2151  6919    97   215     0    10     2    14    10    13     5]\n",
      " [   70    11     8 13757    74     0     5     1     2     5     2     0]\n",
      " [  207   155    22    42 14518     0     4     2     1     0     1     2]\n",
      " [    0     0     0     0     0 15107     0     0     7     2    13     9]\n",
      " [  185   334    37   169   139     0   214     7     9    18    17     5]\n",
      " [  180   267    33   110   127     0     6   123     0     4     6     0]\n",
      " [   59    11    26   112    14   264     2     2   602    42   118    35]\n",
      " [  162    35    37   196    38   228     6     5    61   410   101    31]\n",
      " [  168   171    38    99    47   285    10     1    77    72   594    33]\n",
      " [  192    88    65    84    37   194     4     1    98    53    76   343]]\n"
     ]
    }
   ],
   "source": [
    "rf_new = RandomForestClassifier(random_state=0, max_depth=50)\n",
    "rf_new.fit(X_train_rf, y_train_rf)\n",
    "\n",
    "# Evaluate Model\n",
    "rf_new_eval = evaluate_model(rf, X_test_rf, y_test_rf)\n",
    "\n",
    "# Print result\n",
    "print('Accuracy:', rf_new_eval['acc'])\n",
    "print('Precision:', rf_new_eval['prec'])\n",
    "print('Recall:', rf_new_eval['rec'])\n",
    "print('F1 Score:', rf_new_eval['f1'])\n",
    "print('Cohens Kappa Score:', rf_new_eval['kappa'])\n",
    "print('Confusion Matrix:\\n', rf_new_eval['cm'])"
   ]
  },
  {
   "cell_type": "code",
   "execution_count": 17,
   "id": "faced-cricket",
   "metadata": {
    "scrolled": false
   },
   "outputs": [
    {
     "data": {
      "image/png": "[encoded data removed]",
      "text/plain": [
       "<Figure size 1008x504 with 1 Axes>"
      ]
     },
     "metadata": {},
     "output_type": "display_data"
    }
   ],
   "source": [
    "fig, ax = plt.subplots()\n",
    "fig.set_figheight(7)\n",
    "fig.set_figwidth(14)\n",
    "fig.set_facecolor('white')\n",
    "\n",
    "# First plot\n",
    "## set bar size\n",
    "barWidth = 0.2\n",
    "rf_score = [rf_eval['acc'], rf_eval['prec'], rf_eval['rec'], rf_eval['f1'], rf_eval['kappa']]\n",
    "new_rf_score = [rf_new_eval['acc'], rf_new_eval['prec'], rf_new_eval['rec'], rf_new_eval['f1'], rf_new_eval['kappa']]\n",
    "\n",
    "\n",
    "## Set position of bar on X axis\n",
    "r1 = np.arange(len(rf_score))\n",
    "r2 = [x + barWidth for x in r1]\n",
    "\n",
    "## Make the plot\n",
    "ax.bar(r1, rf_score, width=barWidth, edgecolor='white', label='Random Forest')\n",
    "ax.bar(r2, new_rf_score, width=barWidth, edgecolor='white', label='New Random Forest')\n",
    "\n",
    "## Configure x and y axis\n",
    "ax.set_xlabel('Metrics', fontweight='bold')\n",
    "labels = ['Accuracy', 'Precision', 'Recall', 'F1', 'Kappa']\n",
    "ax.set_xticks([r + (barWidth * 1.5) for r in range(len(knn_score))], )\n",
    "ax.set_xticklabels(labels)\n",
    "ax.set_ylabel('Score', fontweight='bold')\n",
    "ax.set_ylim(0, 1)\n",
    "\n",
    "## Create legend & title\n",
    "ax.set_title('Old vs new Random Forest', fontsize=17, fontweight='bold')\n",
    "ax.legend()\n",
    "\n",
    "plt.show()"
   ]
  },
  {
   "cell_type": "code",
   "execution_count": 19,
   "id": "acute-albany",
   "metadata": {},
   "outputs": [
    {
     "name": "stdout",
     "output_type": "stream",
     "text": [
      "Done\n"
     ]
    }
   ],
   "source": [
    "test['mean'] = (test['0'] + test['1'] + test['2']).mean()\n",
    "test['std'] = np.std(test['0'] + test['1'] + test['2'])\n",
    "test['sqrd'] = (test['0'] + test['1'] + test['2']) ** 2\n",
    "test['cumsum'] = (test['0'] + test['1'] + test['2']).cumsum()\n",
    "\n",
    "X_test_real = test[['0','1','2','mean','std','sqrd','cumsum']]\n",
    "final_prediction = rf.predict(X_test_real)\n",
    "\n",
    "Export = pd.DataFrame(test['Index'])\n",
    "Export['labels'] = final_prediction\n",
    "#Export.columns = ['Index','labels']\n",
    "Export.to_csv('Kaggle.CSV',index=False)\n",
    "print('Done')"
   ]
  }
 ],
 "metadata": {
  "kernelspec": {
   "display_name": "Python 3 (ipykernel)",
   "language": "python",
   "name": "python3"
  },
  "language_info": {
   "codemirror_mode": {
    "name": "ipython",
    "version": 3
   },
   "file_extension": ".py",
   "mimetype": "text/x-python",
   "name": "python",
   "nbconvert_exporter": "python",
   "pygments_lexer": "ipython3",
   "version": "3.9.7"
  }
 },
 "nbformat": 4,
 "nbformat_minor": 5
}
